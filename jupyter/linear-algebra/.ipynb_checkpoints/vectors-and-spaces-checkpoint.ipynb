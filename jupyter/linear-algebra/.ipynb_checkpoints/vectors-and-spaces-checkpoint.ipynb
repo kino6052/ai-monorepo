{
 "cells": [
  {
   "cell_type": "markdown",
   "metadata": {},
   "source": [
    "# Vectors and Spaces"
   ]
  },
  {
   "cell_type": "code",
   "execution_count": 3,
   "metadata": {},
   "outputs": [],
   "source": [
    "import numpy as np"
   ]
  },
  {
   "cell_type": "markdown",
   "metadata": {},
   "source": [
    "Dot is a value in a given amount of dimensions."
   ]
  },
  {
   "cell_type": "markdown",
   "metadata": {},
   "source": [
    "Line is a set of dots such that each dot preserves one-to-one relationship with other dimensions. E.g. value x in one dimension corresponds to value y in another dimension, and x always two times bigger than y."
   ]
  },
  {
   "cell_type": "markdown",
   "metadata": {},
   "source": [
    "Plane is a set of lines such that each line preserves one-to-one relationship with other dimensions. E.g. line x corresponds to value y in another dimension, and y is always proportional to y with some cooefficient of proportionality."
   ]
  },
  {
   "cell_type": "markdown",
   "metadata": {},
   "source": [
    "## Real Coordinate Spaces"
   ]
  },
  {
   "cell_type": "markdown",
   "metadata": {},
   "source": [
    "This indicates how many dimensions we have"
   ]
  },
  {
   "cell_type": "markdown",
   "metadata": {},
   "source": [
    "$\\mathbb{R}, \\mathbb{R}^2, \\mathbb{R}^3, \\mathbb{R}^{...}, \\mathbb{R}^n$"
   ]
  },
  {
   "cell_type": "markdown",
   "metadata": {},
   "source": [
    "## Set of colinear vectors"
   ]
  },
  {
   "cell_type": "markdown",
   "metadata": {},
   "source": [
    "Vectors on the same line going through the origin"
   ]
  },
  {
   "cell_type": "markdown",
   "metadata": {},
   "source": [
    "$S = \\left \\{  c\\vec{V} \\; | \\; c\\in \\mathbb{R}\\right \\}$"
   ]
  },
  {
   "cell_type": "markdown",
   "metadata": {},
   "source": [
    "Vector representation of a line"
   ]
  },
  {
   "cell_type": "markdown",
   "metadata": {},
   "source": [
    "$L = \\left \\{ \\vec{A} + c\\vec{B} \\; | \\; c\\in \\mathbb{R}\\right \\}$"
   ]
  },
  {
   "cell_type": "markdown",
   "metadata": {},
   "source": [
    "$L = \\left \\{ \\vec{X} + c(\\vec{Y}-\\vec{X}) \\; | \\; c\\in \\mathbb{R}\\right \\}$"
   ]
  },
  {
   "cell_type": "markdown",
   "metadata": {},
   "source": [
    "## Linear Combination and Span"
   ]
  },
  {
   "cell_type": "markdown",
   "metadata": {},
   "source": [
    "$LC = \\sum{c_n\\vec{V}_{n}}$"
   ]
  },
  {
   "cell_type": "markdown",
   "metadata": {},
   "source": [
    "$Span(\\vec{a}, \\vec{b}) = \\mathbb{R}^2$, iff $\\vec{a}$ and $\\vec{b}$ not colinear"
   ]
  },
  {
   "cell_type": "markdown",
   "metadata": {},
   "source": [
    "## Linear Dependence"
   ]
  },
  {
   "cell_type": "markdown",
   "metadata": {},
   "source": [
    "Vectors are **linearly dependent** iff their linear combination gives a zero vector with at least one non-zero constant"
   ]
  },
  {
   "cell_type": "markdown",
   "metadata": {},
   "source": [
    "A set of vectors is said to be linearly dependent if at least one of the vectors in the set can be defined as a linear combination of the others; if no vector in the set can be written in this way, then the vectors are said to be linearly independent. "
   ]
  },
  {
   "cell_type": "markdown",
   "metadata": {},
   "source": [
    "## Linear Subspace"
   ]
  },
  {
   "cell_type": "markdown",
   "metadata": {},
   "source": [
    "- Contains vectors and all of their colinear vectors (closed under scalar multiplication)\n",
    "- Closure under addition\n",
    "- Contains the zero vector"
   ]
  },
  {
   "cell_type": "markdown",
   "metadata": {},
   "source": [
    "$S$ is a basis for $V$ iff $V = span(S)$"
   ]
  },
  {
   "cell_type": "markdown",
   "metadata": {},
   "source": [
    "$S$ is \"minimum\" set of vectors that spans the subspace"
   ]
  },
  {
   "cell_type": "markdown",
   "metadata": {},
   "source": [
    "## Dot Product"
   ]
  },
  {
   "cell_type": "markdown",
   "metadata": {},
   "source": [
    "$$\n",
    "\\begin{bmatrix} a_1\n",
    "\\\\ a_2\n",
    "\\\\ a_3\n",
    "\\\\ a_4\n",
    "\\\\ a_5\n",
    "\\end{bmatrix}\n",
    "\\cdot \\begin{bmatrix} b_1\n",
    "\\\\ b_2\n",
    "\\\\ b_3\n",
    "\\\\ b_4\n",
    "\\\\ b_5\n",
    "\\end{bmatrix}\n",
    "= a_1b_1 + ... + a_5b_5\n",
    "$$"
   ]
  },
  {
   "cell_type": "code",
   "execution_count": 6,
   "metadata": {},
   "outputs": [
    {
     "data": {
      "text/plain": [
       "30"
      ]
     },
     "execution_count": 6,
     "metadata": {},
     "output_type": "execute_result"
    }
   ],
   "source": [
    "a = np.array([1, 4, 5, 6])\n",
    "b = np.array([4, 1, 2, 2])\n",
    "np.vdot(a, b)"
   ]
  },
  {
   "cell_type": "markdown",
   "metadata": {},
   "source": [
    "## Length of a Vector"
   ]
  },
  {
   "cell_type": "markdown",
   "metadata": {},
   "source": [
    "$\\left \\|\\vec{a}\\right \\| = \\sqrt{\\vec{a}\\cdot\\vec{a}} = \\sqrt{a_1^2 + ... + a_n^2}$"
   ]
  },
  {
   "cell_type": "code",
   "execution_count": 11,
   "metadata": {},
   "outputs": [
    {
     "data": {
      "text/plain": [
       "7.745966692414834"
      ]
     },
     "execution_count": 11,
     "metadata": {},
     "output_type": "execute_result"
    }
   ],
   "source": [
    "from numpy import linalg as LA\n",
    "a = np.arange(9) - 4\n",
    "np.array([-4, -3, -2, ...,  2,  3,  4])\n",
    "b = a.reshape((3, 3))\n",
    "np.array([[-4, -3, -2],\n",
    "       [-1,  0,  1],\n",
    "       [ 2,  3,  4]])\n",
    "LA.norm(a)\n",
    "# LA.norm(b)\n",
    "# LA.norm(b, 'fro')\n",
    "# LA.norm(a, np.inf)\n",
    "# LA.norm(b, np.inf)\n",
    "# LA.norm(a, -np.inf)\n",
    "# LA.norm(b, -np.inf)"
   ]
  },
  {
   "cell_type": "markdown",
   "metadata": {},
   "source": [
    "### Cauchy-Schwarz Inequality "
   ]
  },
  {
   "cell_type": "markdown",
   "metadata": {},
   "source": [
    "$|\\vec{x}\\cdot\\vec{y}| \\leq \\left \\|\\vec{x}\\right \\|\\left \\|\\vec{y}\\right \\|$"
   ]
  },
  {
   "cell_type": "markdown",
   "metadata": {},
   "source": [
    "$\\|\\vec{x}+\\vec{y}\\|^2 \\leq \\|\\vec{x}\\|^2+2\\|\\vec{x}\\|\\|\\vec{y}\\|+\\|\\vec{y}\\|^2$"
   ]
  },
  {
   "cell_type": "markdown",
   "metadata": {},
   "source": [
    "$(\\vec{a}\\cdot\\vec{b})=\\|\\vec{a}\\|\\|\\vec{b}\\|cos\\theta$ // Proven through the law of cosines"
   ]
  },
  {
   "cell_type": "markdown",
   "metadata": {},
   "source": [
    "$\\vec{a}\\cdot\\vec{b} = 0$ iff $\\vec{a}$ and $\\vec{b}$ are orthogonal and non-zero"
   ]
  },
  {
   "cell_type": "markdown",
   "metadata": {},
   "source": [
    "## Cross Product"
   ]
  },
  {
   "cell_type": "markdown",
   "metadata": {},
   "source": [
    "Only defined in $\\mathbb{R}^3$"
   ]
  },
  {
   "cell_type": "markdown",
   "metadata": {},
   "source": [
    "$$\n",
    "\\vec{a}\\times\\vec{b}=\n",
    "\\begin{bmatrix} a_2b_3-a_3b_2\n",
    "\\\\ a_3b_1-a_1b_3\n",
    "\\\\ a_1b_2-a_2b_1\n",
    "\\end{bmatrix}\n",
    "$$"
   ]
  },
  {
   "cell_type": "markdown",
   "metadata": {},
   "source": [
    "$\\|\\vec{a}\\times\\vec{b}\\|=\\|\\vec{a}\\|\\|\\vec{b}\\|sin\\theta$"
   ]
  },
  {
   "cell_type": "markdown",
   "metadata": {},
   "source": [
    "Triple Product Expansion: $\\vec{a}\\times(\\vec{b}\\times\\vec{c})=\\vec{b}(\\vec{a}\\cdot\\vec{c})-\\vec{c}(\\vec{a}\\cdot\\vec{b})$"
   ]
  },
  {
   "cell_type": "markdown",
   "metadata": {},
   "source": [
    "## Normal Vector from Plane Equation"
   ]
  },
  {
   "cell_type": "markdown",
   "metadata": {},
   "source": [
    "$P = \\left \\{ L_A + cL_B \\; | \\; c\\in \\mathbb{R}\\right \\}$"
   ]
  },
  {
   "cell_type": "markdown",
   "metadata": {},
   "source": [
    "Because a 3d plane can also be represented as $ax+by+cz=d$ and because of the definition of dot product it follows $\\begin{bmatrix} a\n",
    "\\\\ b\n",
    "\\\\ c\n",
    "\\end{bmatrix}\\cdot\\begin{bmatrix} x\n",
    "\\\\ y\n",
    "\\\\ z\n",
    "\\end{bmatrix}=ax+by+cz$\n",
    "Therefore, we can represent that plane as a dot product as follows $\\vec{A}\\cdot\\vec{X}=d$\n",
    "For any two dots that follow $\\vec{A}\\cdot\\vec{D}=d$, the vector $\\vec{D}_1-\\vec{D}_0$ will be orthogonal to $\\vec{A}$, since $\\vec{A}\\cdot(\\vec{D}_1-\\vec{D}_0) = d-d = 0$"
   ]
  },
  {
   "cell_type": "markdown",
   "metadata": {},
   "source": [
    "Normal vector can also be found by solving a system of equations for 3 dots (finding a, b, c given x, y, z of those 3 dots) and finding relationships between $a, b, c$ and then substituting setting some value to the relationship and then removing all the common factors."
   ]
  },
  {
   "cell_type": "markdown",
   "metadata": {},
   "source": [
    "## Point Distance to Plane"
   ]
  },
  {
   "cell_type": "markdown",
   "metadata": {},
   "source": [
    "$d = \\frac{\\vec{n}\\cdot\\vec{f}}{\\|\\vec{n}\\|} = \\frac{\\|\\vec{n}\\|\\cdot\\|\\vec{f}\\|cos{\\theta}}{\\|\\vec{n}\\|}$"
   ]
  },
  {
   "cell_type": "markdown",
   "metadata": {},
   "source": [
    "## Reduced Row Echelon Form"
   ]
  },
  {
   "cell_type": "markdown",
   "metadata": {},
   "source": [
    "Only one entry allowed in a column.\n",
    "Zero row is the last one."
   ]
  },
  {
   "cell_type": "markdown",
   "metadata": {},
   "source": [
    "$\\begin{bmatrix} 1 & 0 & 2 & 3 & 4\n",
    "\\\\ 0 & 1 & 5 & 6 & 7\n",
    "\\\\ 0 & 0 & 0 & 0 & 1\n",
    "\\end{bmatrix}$"
   ]
  },
  {
   "cell_type": "markdown",
   "metadata": {},
   "source": [
    "$\\begin{bmatrix}\n",
    " 1& 0 & 0 &| 1  \\\\ \n",
    " 0& 1 & 0 &| 2  \\\\\n",
    " 0& 0 & 1 &| 3\n",
    "\\end{bmatrix}$"
   ]
  },
  {
   "cell_type": "markdown",
   "metadata": {},
   "source": [
    "## Matrix-Vector Product"
   ]
  },
  {
   "cell_type": "markdown",
   "metadata": {},
   "source": [
    "$A\\vec{x}$, such that $\\vec{x}$ has $n$ elements, and $M$ has $m$ rows and $n$ columns"
   ]
  },
  {
   "cell_type": "code",
   "execution_count": null,
   "metadata": {},
   "outputs": [],
   "source": []
  }
 ],
 "metadata": {
  "kernelspec": {
   "display_name": "Python 3",
   "language": "python",
   "name": "python3"
  },
  "language_info": {
   "codemirror_mode": {
    "name": "ipython",
    "version": 3
   },
   "file_extension": ".py",
   "mimetype": "text/x-python",
   "name": "python",
   "nbconvert_exporter": "python",
   "pygments_lexer": "ipython3",
   "version": "3.8.3"
  }
 },
 "nbformat": 4,
 "nbformat_minor": 4
}
