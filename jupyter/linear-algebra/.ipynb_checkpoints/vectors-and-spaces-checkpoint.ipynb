{
 "cells": [
  {
   "cell_type": "markdown",
   "metadata": {},
   "source": [
    "# Vectors and Spaces"
   ]
  },
  {
   "cell_type": "markdown",
   "metadata": {},
   "source": [
    "## Real Coordinate Spaces"
   ]
  },
  {
   "cell_type": "markdown",
   "metadata": {},
   "source": [
    "This indicates how many dimensions we have"
   ]
  },
  {
   "cell_type": "markdown",
   "metadata": {},
   "source": [
    "$\\mathbb{R}, \\mathbb{R}^2, \\mathbb{R}^3, \\mathbb{R}^{...}, \\mathbb{R}^n$"
   ]
  },
  {
   "cell_type": "markdown",
   "metadata": {},
   "source": [
    "## Set of colinear vectors"
   ]
  },
  {
   "cell_type": "markdown",
   "metadata": {},
   "source": [
    "Vectors on the same line going through the origin"
   ]
  },
  {
   "cell_type": "markdown",
   "metadata": {},
   "source": [
    "$S = \\left \\{  c\\vec{V} \\; | \\; c\\in \\mathbb{R}\\right \\}$"
   ]
  },
  {
   "cell_type": "markdown",
   "metadata": {},
   "source": [
    "Vector representation of a line"
   ]
  },
  {
   "cell_type": "markdown",
   "metadata": {},
   "source": [
    "$L = \\left \\{ \\vec{A} + c\\vec{B} \\; | \\; c\\in \\mathbb{R}\\right \\}$"
   ]
  },
  {
   "cell_type": "markdown",
   "metadata": {},
   "source": [
    "$L = \\left \\{ \\vec{X} + c(\\vec{Y}-\\vec{X}) \\; | \\; c\\in \\mathbb{R}\\right \\}$"
   ]
  },
  {
   "cell_type": "markdown",
   "metadata": {},
   "source": [
    "## Linear Combination and Span"
   ]
  },
  {
   "cell_type": "markdown",
   "metadata": {},
   "source": [
    "$LC = \\sum{c_n\\vec{V}_{n}}$"
   ]
  },
  {
   "cell_type": "markdown",
   "metadata": {},
   "source": [
    "$Span(\\vec{a}, \\vec{b}) = \\mathbb{R}^2$, iff $\\vec{a}$ and $\\vec{b}$ not colinear"
   ]
  },
  {
   "cell_type": "markdown",
   "metadata": {},
   "source": [
    "## Linear Dependence"
   ]
  },
  {
   "cell_type": "markdown",
   "metadata": {},
   "source": [
    "Vectors are **linearly dependent** iff their linear combination gives a zero vector with at least one non-zero constant"
   ]
  },
  {
   "cell_type": "markdown",
   "metadata": {},
   "source": [
    "A set of vectors is said to be linearly dependent if at least one of the vectors in the set can be defined as a linear combination of the others; if no vector in the set can be written in this way, then the vectors are said to be linearly independent. "
   ]
  },
  {
   "cell_type": "markdown",
   "metadata": {},
   "source": [
    "## Linear Subspace"
   ]
  },
  {
   "cell_type": "markdown",
   "metadata": {},
   "source": [
    "- Contains vectors and all of their colinear vectors (closed under scalar multiplication)\n",
    "- Closure under addition\n",
    "- Contains the zero vector"
   ]
  },
  {
   "cell_type": "markdown",
   "metadata": {},
   "source": [
    "$S$ is a basis for $V$ iff $V = span(S)$"
   ]
  },
  {
   "cell_type": "markdown",
   "metadata": {},
   "source": [
    "$S$ is \"minimum\" set of vectors that spans the subspace"
   ]
  },
  {
   "cell_type": "markdown",
   "metadata": {},
   "source": [
    "## Dot Product"
   ]
  },
  {
   "cell_type": "markdown",
   "metadata": {},
   "source": [
    "$$\n",
    "\\begin{bmatrix} a_1\n",
    "\\\\ a_2\n",
    "\\\\ a_3\n",
    "\\\\ a_4\n",
    "\\\\ a_5\n",
    "\\end{bmatrix}\n",
    "\\cdot \\begin{bmatrix} b_1\n",
    "\\\\ b_2\n",
    "\\\\ b_3\n",
    "\\\\ b_4\n",
    "\\\\ b_5\n",
    "\\end{bmatrix}\n",
    "= a_1b_1 + ... + a_5b_5\n",
    "$$"
   ]
  },
  {
   "cell_type": "markdown",
   "metadata": {},
   "source": [
    "## Length of a Vector"
   ]
  },
  {
   "cell_type": "markdown",
   "metadata": {},
   "source": [
    "$\\left \\|\\vec{a}\\right \\| = \\sqrt{\\vec{a}\\cdot\\vec{a}} = \\sqrt{a_1^2 + ... + a_n^2}$"
   ]
  },
  {
   "cell_type": "markdown",
   "metadata": {},
   "source": [
    "### Cauchy Swarz Inequality "
   ]
  },
  {
   "cell_type": "markdown",
   "metadata": {},
   "source": [
    "$|\\vec{x}\\cdot\\vec{y}| \\leq \\left \\|\\vec{x}\\right \\|\\left \\|\\vec{y}\\right \\|$"
   ]
  },
  {
   "cell_type": "code",
   "execution_count": null,
   "metadata": {},
   "outputs": [],
   "source": []
  }
 ],
 "metadata": {
  "kernelspec": {
   "display_name": "Python 3",
   "language": "python",
   "name": "python3"
  },
  "language_info": {
   "codemirror_mode": {
    "name": "ipython",
    "version": 3
   },
   "file_extension": ".py",
   "mimetype": "text/x-python",
   "name": "python",
   "nbconvert_exporter": "python",
   "pygments_lexer": "ipython3",
   "version": "3.8.3"
  }
 },
 "nbformat": 4,
 "nbformat_minor": 4
}
